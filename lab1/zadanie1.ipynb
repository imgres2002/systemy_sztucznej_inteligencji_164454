{
 "cells": [
  {
   "cell_type": "code",
   "id": "initial_id",
   "metadata": {
    "collapsed": true,
    "ExecuteTime": {
     "end_time": "2025-10-21T11:42:57.545582Z",
     "start_time": "2025-10-21T11:42:57.542574Z"
    }
   },
   "source": [
    "import pandas as pd\n",
    "import matplotlib.pyplot as plt"
   ],
   "outputs": [],
   "execution_count": 188
  },
  {
   "metadata": {
    "ExecuteTime": {
     "end_time": "2025-10-21T11:42:57.588222Z",
     "start_time": "2025-10-21T11:42:57.563156Z"
    }
   },
   "cell_type": "code",
   "source": [
    "df = pd.read_csv(\"data.csv\", names=[\"x1\", \"x2\"])\n",
    "df"
   ],
   "id": "26db8de51ba70449",
   "outputs": [
    {
     "data": {
      "text/plain": [
       "         x1      x2\n",
       "0   -0.0824  0.9435\n",
       "1    0.0913  0.9575\n",
       "2    0.0476  1.0683\n",
       "3    0.2311  1.0452\n",
       "4    0.2269  0.9615\n",
       "..      ...     ...\n",
       "96  -0.5031  1.8191\n",
       "97  -0.3340  1.8515\n",
       "98  -0.3200  1.9158\n",
       "99  -0.2074  1.9929\n",
       "100  0.0322  1.9473\n",
       "\n",
       "[101 rows x 2 columns]"
      ],
      "text/html": [
       "<div>\n",
       "<style scoped>\n",
       "    .dataframe tbody tr th:only-of-type {\n",
       "        vertical-align: middle;\n",
       "    }\n",
       "\n",
       "    .dataframe tbody tr th {\n",
       "        vertical-align: top;\n",
       "    }\n",
       "\n",
       "    .dataframe thead th {\n",
       "        text-align: right;\n",
       "    }\n",
       "</style>\n",
       "<table border=\"1\" class=\"dataframe\">\n",
       "  <thead>\n",
       "    <tr style=\"text-align: right;\">\n",
       "      <th></th>\n",
       "      <th>x1</th>\n",
       "      <th>x2</th>\n",
       "    </tr>\n",
       "  </thead>\n",
       "  <tbody>\n",
       "    <tr>\n",
       "      <th>0</th>\n",
       "      <td>-0.0824</td>\n",
       "      <td>0.9435</td>\n",
       "    </tr>\n",
       "    <tr>\n",
       "      <th>1</th>\n",
       "      <td>0.0913</td>\n",
       "      <td>0.9575</td>\n",
       "    </tr>\n",
       "    <tr>\n",
       "      <th>2</th>\n",
       "      <td>0.0476</td>\n",
       "      <td>1.0683</td>\n",
       "    </tr>\n",
       "    <tr>\n",
       "      <th>3</th>\n",
       "      <td>0.2311</td>\n",
       "      <td>1.0452</td>\n",
       "    </tr>\n",
       "    <tr>\n",
       "      <th>4</th>\n",
       "      <td>0.2269</td>\n",
       "      <td>0.9615</td>\n",
       "    </tr>\n",
       "    <tr>\n",
       "      <th>...</th>\n",
       "      <td>...</td>\n",
       "      <td>...</td>\n",
       "    </tr>\n",
       "    <tr>\n",
       "      <th>96</th>\n",
       "      <td>-0.5031</td>\n",
       "      <td>1.8191</td>\n",
       "    </tr>\n",
       "    <tr>\n",
       "      <th>97</th>\n",
       "      <td>-0.3340</td>\n",
       "      <td>1.8515</td>\n",
       "    </tr>\n",
       "    <tr>\n",
       "      <th>98</th>\n",
       "      <td>-0.3200</td>\n",
       "      <td>1.9158</td>\n",
       "    </tr>\n",
       "    <tr>\n",
       "      <th>99</th>\n",
       "      <td>-0.2074</td>\n",
       "      <td>1.9929</td>\n",
       "    </tr>\n",
       "    <tr>\n",
       "      <th>100</th>\n",
       "      <td>0.0322</td>\n",
       "      <td>1.9473</td>\n",
       "    </tr>\n",
       "  </tbody>\n",
       "</table>\n",
       "<p>101 rows × 2 columns</p>\n",
       "</div>"
      ]
     },
     "execution_count": 189,
     "metadata": {},
     "output_type": "execute_result"
    }
   ],
   "execution_count": 189
  },
  {
   "metadata": {
    "ExecuteTime": {
     "end_time": "2025-10-21T11:42:57.627639Z",
     "start_time": "2025-10-21T11:42:57.621392Z"
    }
   },
   "cell_type": "code",
   "source": [
    "m = 4\n",
    "iters = 11\n",
    "center_points = df.sample(m).reset_index(drop=True)\n",
    "df[\"nearest_center\"] = None\n",
    "center_points"
   ],
   "id": "97f8673e8607912b",
   "outputs": [
    {
     "data": {
      "text/plain": [
       "       x1      x2\n",
       "0  0.2717  1.0570\n",
       "1  0.4601 -1.3957\n",
       "2  0.9918 -1.0194\n",
       "3 -0.9805 -1.2422"
      ],
      "text/html": [
       "<div>\n",
       "<style scoped>\n",
       "    .dataframe tbody tr th:only-of-type {\n",
       "        vertical-align: middle;\n",
       "    }\n",
       "\n",
       "    .dataframe tbody tr th {\n",
       "        vertical-align: top;\n",
       "    }\n",
       "\n",
       "    .dataframe thead th {\n",
       "        text-align: right;\n",
       "    }\n",
       "</style>\n",
       "<table border=\"1\" class=\"dataframe\">\n",
       "  <thead>\n",
       "    <tr style=\"text-align: right;\">\n",
       "      <th></th>\n",
       "      <th>x1</th>\n",
       "      <th>x2</th>\n",
       "    </tr>\n",
       "  </thead>\n",
       "  <tbody>\n",
       "    <tr>\n",
       "      <th>0</th>\n",
       "      <td>0.2717</td>\n",
       "      <td>1.0570</td>\n",
       "    </tr>\n",
       "    <tr>\n",
       "      <th>1</th>\n",
       "      <td>0.4601</td>\n",
       "      <td>-1.3957</td>\n",
       "    </tr>\n",
       "    <tr>\n",
       "      <th>2</th>\n",
       "      <td>0.9918</td>\n",
       "      <td>-1.0194</td>\n",
       "    </tr>\n",
       "    <tr>\n",
       "      <th>3</th>\n",
       "      <td>-0.9805</td>\n",
       "      <td>-1.2422</td>\n",
       "    </tr>\n",
       "  </tbody>\n",
       "</table>\n",
       "</div>"
      ]
     },
     "execution_count": 190,
     "metadata": {},
     "output_type": "execute_result"
    }
   ],
   "execution_count": 190
  },
  {
   "metadata": {
    "ExecuteTime": {
     "end_time": "2025-10-21T11:42:57.949984Z",
     "start_time": "2025-10-21T11:42:57.780253Z"
    }
   },
   "cell_type": "code",
   "source": [
    "for _ in range(iters):\n",
    "    for i, row in df.iterrows():\n",
    "        distances = {}\n",
    "        for j, center_point in center_points.iterrows():\n",
    "            distance = (\n",
    "                               (row[\"x1\"] - center_point[\"x1\"])**2\n",
    "                               +(row[\"x2\"] - center_point[\"x2\"])**2\n",
    "                       )**0.5\n",
    "            distances[j] = distance\n",
    "        min_center = min(distances, key=distances.get)\n",
    "        df.at[i, \"nearest_center\"] = min_center\n",
    "    groups_id = df['nearest_center'].unique()\n",
    "    groups = df.groupby(['nearest_center'])\n",
    "    for group_id in groups_id:\n",
    "        group = groups.get_group((group_id,))\n",
    "\n",
    "        if group.shape[0] == 0:\n",
    "            continue\n",
    "        center_points.loc[group_id, \"x1\"] = group[\"x1\"].mean()\n",
    "        center_points.loc[group_id, \"x2\"] = group[\"x2\"].mean()\n"
   ],
   "id": "1c4c3ca43a2339df",
   "outputs": [],
   "execution_count": 191
  },
  {
   "metadata": {
    "ExecuteTime": {
     "end_time": "2025-10-21T11:42:57.992406Z",
     "start_time": "2025-10-21T11:42:57.985481Z"
    }
   },
   "cell_type": "code",
   "source": "df",
   "id": "2bc631fedf947cc",
   "outputs": [
    {
     "data": {
      "text/plain": [
       "         x1      x2 nearest_center\n",
       "0   -0.0824  0.9435              0\n",
       "1    0.0913  0.9575              0\n",
       "2    0.0476  1.0683              0\n",
       "3    0.2311  1.0452              0\n",
       "4    0.2269  0.9615              0\n",
       "..      ...     ...            ...\n",
       "96  -0.5031  1.8191              0\n",
       "97  -0.3340  1.8515              0\n",
       "98  -0.3200  1.9158              0\n",
       "99  -0.2074  1.9929              0\n",
       "100  0.0322  1.9473              0\n",
       "\n",
       "[101 rows x 3 columns]"
      ],
      "text/html": [
       "<div>\n",
       "<style scoped>\n",
       "    .dataframe tbody tr th:only-of-type {\n",
       "        vertical-align: middle;\n",
       "    }\n",
       "\n",
       "    .dataframe tbody tr th {\n",
       "        vertical-align: top;\n",
       "    }\n",
       "\n",
       "    .dataframe thead th {\n",
       "        text-align: right;\n",
       "    }\n",
       "</style>\n",
       "<table border=\"1\" class=\"dataframe\">\n",
       "  <thead>\n",
       "    <tr style=\"text-align: right;\">\n",
       "      <th></th>\n",
       "      <th>x1</th>\n",
       "      <th>x2</th>\n",
       "      <th>nearest_center</th>\n",
       "    </tr>\n",
       "  </thead>\n",
       "  <tbody>\n",
       "    <tr>\n",
       "      <th>0</th>\n",
       "      <td>-0.0824</td>\n",
       "      <td>0.9435</td>\n",
       "      <td>0</td>\n",
       "    </tr>\n",
       "    <tr>\n",
       "      <th>1</th>\n",
       "      <td>0.0913</td>\n",
       "      <td>0.9575</td>\n",
       "      <td>0</td>\n",
       "    </tr>\n",
       "    <tr>\n",
       "      <th>2</th>\n",
       "      <td>0.0476</td>\n",
       "      <td>1.0683</td>\n",
       "      <td>0</td>\n",
       "    </tr>\n",
       "    <tr>\n",
       "      <th>3</th>\n",
       "      <td>0.2311</td>\n",
       "      <td>1.0452</td>\n",
       "      <td>0</td>\n",
       "    </tr>\n",
       "    <tr>\n",
       "      <th>4</th>\n",
       "      <td>0.2269</td>\n",
       "      <td>0.9615</td>\n",
       "      <td>0</td>\n",
       "    </tr>\n",
       "    <tr>\n",
       "      <th>...</th>\n",
       "      <td>...</td>\n",
       "      <td>...</td>\n",
       "      <td>...</td>\n",
       "    </tr>\n",
       "    <tr>\n",
       "      <th>96</th>\n",
       "      <td>-0.5031</td>\n",
       "      <td>1.8191</td>\n",
       "      <td>0</td>\n",
       "    </tr>\n",
       "    <tr>\n",
       "      <th>97</th>\n",
       "      <td>-0.3340</td>\n",
       "      <td>1.8515</td>\n",
       "      <td>0</td>\n",
       "    </tr>\n",
       "    <tr>\n",
       "      <th>98</th>\n",
       "      <td>-0.3200</td>\n",
       "      <td>1.9158</td>\n",
       "      <td>0</td>\n",
       "    </tr>\n",
       "    <tr>\n",
       "      <th>99</th>\n",
       "      <td>-0.2074</td>\n",
       "      <td>1.9929</td>\n",
       "      <td>0</td>\n",
       "    </tr>\n",
       "    <tr>\n",
       "      <th>100</th>\n",
       "      <td>0.0322</td>\n",
       "      <td>1.9473</td>\n",
       "      <td>0</td>\n",
       "    </tr>\n",
       "  </tbody>\n",
       "</table>\n",
       "<p>101 rows × 3 columns</p>\n",
       "</div>"
      ]
     },
     "execution_count": 192,
     "metadata": {},
     "output_type": "execute_result"
    }
   ],
   "execution_count": 192
  },
  {
   "metadata": {
    "ExecuteTime": {
     "end_time": "2025-10-21T11:42:58.152260Z",
     "start_time": "2025-10-21T11:42:58.090801Z"
    }
   },
   "cell_type": "code",
   "source": [
    "plt.scatter(df[\"x1\"], df[\"x2\"], c=df[\"nearest_center\"])\n",
    "plt.scatter(center_points[\"x1\"], center_points[\"x2\"], c=\"red\", s=100, marker=\"X\")\n",
    "plt.show()"
   ],
   "id": "ce51086cd1f951ad",
   "outputs": [
    {
     "data": {
      "text/plain": [
       "<Figure size 640x480 with 1 Axes>"
      ],
      "image/png": "[encoded data removed]"
     },
     "metadata": {},
     "output_type": "display_data",
     "jetTransient": {
      "display_id": null
     }
    }
   ],
   "execution_count": 193
  },
  {
   "metadata": {
    "ExecuteTime": {
     "end_time": "2025-10-21T11:42:58.184202Z",
     "start_time": "2025-10-21T11:42:58.182506Z"
    }
   },
   "cell_type": "code",
   "source": "",
   "id": "f5785f6b99886ba1",
   "outputs": [],
   "execution_count": null
  }
 ],
 "metadata": {
  "kernelspec": {
   "display_name": "Python 3",
   "language": "python",
   "name": "python3"
  },
  "language_info": {
   "codemirror_mode": {
    "name": "ipython",
    "version": 2
   },
   "file_extension": ".py",
   "mimetype": "text/x-python",
   "name": "python",
   "nbconvert_exporter": "python",
   "pygments_lexer": "ipython2",
   "version": "2.7.6"
  }
 },
 "nbformat": 4,
 "nbformat_minor": 5
}
